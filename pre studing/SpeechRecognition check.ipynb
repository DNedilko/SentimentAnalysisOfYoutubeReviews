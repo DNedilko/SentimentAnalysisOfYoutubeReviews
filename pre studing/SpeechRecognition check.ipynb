{
 "cells": [
  {
   "cell_type": "markdown",
   "source": [
    "###### Downloading libs"
   ],
   "metadata": {
    "collapsed": false,
    "pycharm": {
     "name": "#%% md\n"
    }
   }
  },
  {
   "cell_type": "code",
   "execution_count": 42,
   "outputs": [
    {
     "name": "stdout",
     "output_type": "stream",
     "text": [
      "Requirement already satisfied: SpeechRecognition in c:\\users\\dnedi\\pycharmprojects\\sentimentanalysisofyoutubereviews\\venv\\lib\\site-packages (3.9.0)\n",
      "Requirement already satisfied: requests>=2.26.0 in c:\\users\\dnedi\\pycharmprojects\\sentimentanalysisofyoutubereviews\\venv\\lib\\site-packages (from SpeechRecognition) (2.28.1)\n",
      "Requirement already satisfied: charset-normalizer<3,>=2 in c:\\users\\dnedi\\pycharmprojects\\sentimentanalysisofyoutubereviews\\venv\\lib\\site-packages (from requests>=2.26.0->SpeechRecognition) (2.1.1)\n",
      "Requirement already satisfied: idna<4,>=2.5 in c:\\users\\dnedi\\pycharmprojects\\sentimentanalysisofyoutubereviews\\venv\\lib\\site-packages (from requests>=2.26.0->SpeechRecognition) (3.4)\n",
      "Requirement already satisfied: certifi>=2017.4.17 in c:\\users\\dnedi\\pycharmprojects\\sentimentanalysisofyoutubereviews\\venv\\lib\\site-packages (from requests>=2.26.0->SpeechRecognition) (2022.12.7)\n",
      "Requirement already satisfied: urllib3<1.27,>=1.21.1 in c:\\users\\dnedi\\pycharmprojects\\sentimentanalysisofyoutubereviews\\venv\\lib\\site-packages (from requests>=2.26.0->SpeechRecognition) (1.26.13)\n",
      "Requirement already satisfied: ffmpeg in c:\\users\\dnedi\\pycharmprojects\\sentimentanalysisofyoutubereviews\\venv\\lib\\site-packages (1.4)\n",
      "Requirement already satisfied: spaCy in c:\\users\\dnedi\\pycharmprojects\\sentimentanalysisofyoutubereviews\\venv\\lib\\site-packages (3.4.3)\n",
      "Requirement already satisfied: preshed<3.1.0,>=3.0.2 in c:\\users\\dnedi\\pycharmprojects\\sentimentanalysisofyoutubereviews\\venv\\lib\\site-packages (from spaCy) (3.0.8)\n",
      "Requirement already satisfied: pydantic!=1.8,!=1.8.1,<1.11.0,>=1.7.4 in c:\\users\\dnedi\\pycharmprojects\\sentimentanalysisofyoutubereviews\\venv\\lib\\site-packages (from spaCy) (1.10.2)\n",
      "Requirement already satisfied: typer<0.8.0,>=0.3.0 in c:\\users\\dnedi\\pycharmprojects\\sentimentanalysisofyoutubereviews\\venv\\lib\\site-packages (from spaCy) (0.7.0)\n",
      "Requirement already satisfied: spacy-legacy<3.1.0,>=3.0.10 in c:\\users\\dnedi\\pycharmprojects\\sentimentanalysisofyoutubereviews\\venv\\lib\\site-packages (from spaCy) (3.0.10)\n",
      "Requirement already satisfied: thinc<8.2.0,>=8.1.0 in c:\\users\\dnedi\\pycharmprojects\\sentimentanalysisofyoutubereviews\\venv\\lib\\site-packages (from spaCy) (8.1.5)\n",
      "Requirement already satisfied: packaging>=20.0 in c:\\users\\dnedi\\pycharmprojects\\sentimentanalysisofyoutubereviews\\venv\\lib\\site-packages (from spaCy) (22.0)\n",
      "Requirement already satisfied: cymem<2.1.0,>=2.0.2 in c:\\users\\dnedi\\pycharmprojects\\sentimentanalysisofyoutubereviews\\venv\\lib\\site-packages (from spaCy) (2.0.7)\n",
      "Requirement already satisfied: numpy>=1.15.0 in c:\\users\\dnedi\\pycharmprojects\\sentimentanalysisofyoutubereviews\\venv\\lib\\site-packages (from spaCy) (1.23.5)\n",
      "Requirement already satisfied: tqdm<5.0.0,>=4.38.0 in c:\\users\\dnedi\\pycharmprojects\\sentimentanalysisofyoutubereviews\\venv\\lib\\site-packages (from spaCy) (4.64.1)\n",
      "Requirement already satisfied: setuptools in c:\\users\\dnedi\\pycharmprojects\\sentimentanalysisofyoutubereviews\\venv\\lib\\site-packages (from spaCy) (60.2.0)\n",
      "Requirement already satisfied: srsly<3.0.0,>=2.4.3 in c:\\users\\dnedi\\pycharmprojects\\sentimentanalysisofyoutubereviews\\venv\\lib\\site-packages (from spaCy) (2.4.5)\n",
      "Requirement already satisfied: requests<3.0.0,>=2.13.0 in c:\\users\\dnedi\\pycharmprojects\\sentimentanalysisofyoutubereviews\\venv\\lib\\site-packages (from spaCy) (2.28.1)\n",
      "Requirement already satisfied: spacy-loggers<2.0.0,>=1.0.0 in c:\\users\\dnedi\\pycharmprojects\\sentimentanalysisofyoutubereviews\\venv\\lib\\site-packages (from spaCy) (1.0.4)\n",
      "Requirement already satisfied: catalogue<2.1.0,>=2.0.6 in c:\\users\\dnedi\\pycharmprojects\\sentimentanalysisofyoutubereviews\\venv\\lib\\site-packages (from spaCy) (2.0.8)\n",
      "Requirement already satisfied: langcodes<4.0.0,>=3.2.0 in c:\\users\\dnedi\\pycharmprojects\\sentimentanalysisofyoutubereviews\\venv\\lib\\site-packages (from spaCy) (3.3.0)\n",
      "Requirement already satisfied: jinja2 in c:\\users\\dnedi\\pycharmprojects\\sentimentanalysisofyoutubereviews\\venv\\lib\\site-packages (from spaCy) (3.1.2)\n",
      "Requirement already satisfied: wasabi<1.1.0,>=0.9.1 in c:\\users\\dnedi\\pycharmprojects\\sentimentanalysisofyoutubereviews\\venv\\lib\\site-packages (from spaCy) (0.10.1)\n",
      "Requirement already satisfied: pathy>=0.3.5 in c:\\users\\dnedi\\pycharmprojects\\sentimentanalysisofyoutubereviews\\venv\\lib\\site-packages (from spaCy) (0.10.1)\n",
      "Requirement already satisfied: murmurhash<1.1.0,>=0.28.0 in c:\\users\\dnedi\\pycharmprojects\\sentimentanalysisofyoutubereviews\\venv\\lib\\site-packages (from spaCy) (1.0.9)\n",
      "Requirement already satisfied: smart-open<7.0.0,>=5.2.1 in c:\\users\\dnedi\\pycharmprojects\\sentimentanalysisofyoutubereviews\\venv\\lib\\site-packages (from pathy>=0.3.5->spaCy) (6.2.0)\n",
      "Requirement already satisfied: typing-extensions>=4.1.0 in c:\\users\\dnedi\\pycharmprojects\\sentimentanalysisofyoutubereviews\\venv\\lib\\site-packages (from pydantic!=1.8,!=1.8.1,<1.11.0,>=1.7.4->spaCy) (4.4.0)\n",
      "Requirement already satisfied: charset-normalizer<3,>=2 in c:\\users\\dnedi\\pycharmprojects\\sentimentanalysisofyoutubereviews\\venv\\lib\\site-packages (from requests<3.0.0,>=2.13.0->spaCy) (2.1.1)\n",
      "Requirement already satisfied: urllib3<1.27,>=1.21.1 in c:\\users\\dnedi\\pycharmprojects\\sentimentanalysisofyoutubereviews\\venv\\lib\\site-packages (from requests<3.0.0,>=2.13.0->spaCy) (1.26.13)\n",
      "Requirement already satisfied: certifi>=2017.4.17 in c:\\users\\dnedi\\pycharmprojects\\sentimentanalysisofyoutubereviews\\venv\\lib\\site-packages (from requests<3.0.0,>=2.13.0->spaCy) (2022.12.7)\n",
      "Requirement already satisfied: idna<4,>=2.5 in c:\\users\\dnedi\\pycharmprojects\\sentimentanalysisofyoutubereviews\\venv\\lib\\site-packages (from requests<3.0.0,>=2.13.0->spaCy) (3.4)\n",
      "Requirement already satisfied: blis<0.8.0,>=0.7.8 in c:\\users\\dnedi\\pycharmprojects\\sentimentanalysisofyoutubereviews\\venv\\lib\\site-packages (from thinc<8.2.0,>=8.1.0->spaCy) (0.7.9)\n",
      "Requirement already satisfied: confection<1.0.0,>=0.0.1 in c:\\users\\dnedi\\pycharmprojects\\sentimentanalysisofyoutubereviews\\venv\\lib\\site-packages (from thinc<8.2.0,>=8.1.0->spaCy) (0.0.3)\n",
      "Requirement already satisfied: colorama in c:\\users\\dnedi\\pycharmprojects\\sentimentanalysisofyoutubereviews\\venv\\lib\\site-packages (from tqdm<5.0.0,>=4.38.0->spaCy) (0.4.6)\n",
      "Requirement already satisfied: click<9.0.0,>=7.1.1 in c:\\users\\dnedi\\pycharmprojects\\sentimentanalysisofyoutubereviews\\venv\\lib\\site-packages (from typer<0.8.0,>=0.3.0->spaCy) (8.1.3)\n",
      "Requirement already satisfied: MarkupSafe>=2.0 in c:\\users\\dnedi\\pycharmprojects\\sentimentanalysisofyoutubereviews\\venv\\lib\\site-packages (from jinja2->spaCy) (2.1.1)\n",
      "Requirement already satisfied: SentimentAnalysis in c:\\users\\dnedi\\pycharmprojects\\sentimentanalysisofyoutubereviews\\venv\\lib\\site-packages (0.8)\n",
      "Requirement already satisfied: vaderSentiment in c:\\users\\dnedi\\pycharmprojects\\sentimentanalysisofyoutubereviews\\venv\\lib\\site-packages (from SentimentAnalysis) (3.3.2)\n",
      "Requirement already satisfied: nltk in c:\\users\\dnedi\\pycharmprojects\\sentimentanalysisofyoutubereviews\\venv\\lib\\site-packages (from SentimentAnalysis) (3.7)\n",
      "Requirement already satisfied: requests in c:\\users\\dnedi\\pycharmprojects\\sentimentanalysisofyoutubereviews\\venv\\lib\\site-packages (from SentimentAnalysis) (2.28.1)\n",
      "Requirement already satisfied: urllib3 in c:\\users\\dnedi\\pycharmprojects\\sentimentanalysisofyoutubereviews\\venv\\lib\\site-packages (from SentimentAnalysis) (1.26.13)\n",
      "Requirement already satisfied: click in c:\\users\\dnedi\\pycharmprojects\\sentimentanalysisofyoutubereviews\\venv\\lib\\site-packages (from nltk->SentimentAnalysis) (8.1.3)\n",
      "Requirement already satisfied: tqdm in c:\\users\\dnedi\\pycharmprojects\\sentimentanalysisofyoutubereviews\\venv\\lib\\site-packages (from nltk->SentimentAnalysis) (4.64.1)\n",
      "Requirement already satisfied: regex>=2021.8.3 in c:\\users\\dnedi\\pycharmprojects\\sentimentanalysisofyoutubereviews\\venv\\lib\\site-packages (from nltk->SentimentAnalysis) (2022.10.31)\n",
      "Requirement already satisfied: joblib in c:\\users\\dnedi\\pycharmprojects\\sentimentanalysisofyoutubereviews\\venv\\lib\\site-packages (from nltk->SentimentAnalysis) (1.2.0)\n",
      "Requirement already satisfied: idna<4,>=2.5 in c:\\users\\dnedi\\pycharmprojects\\sentimentanalysisofyoutubereviews\\venv\\lib\\site-packages (from requests->SentimentAnalysis) (3.4)\n",
      "Requirement already satisfied: certifi>=2017.4.17 in c:\\users\\dnedi\\pycharmprojects\\sentimentanalysisofyoutubereviews\\venv\\lib\\site-packages (from requests->SentimentAnalysis) (2022.12.7)\n",
      "Requirement already satisfied: charset-normalizer<3,>=2 in c:\\users\\dnedi\\pycharmprojects\\sentimentanalysisofyoutubereviews\\venv\\lib\\site-packages (from requests->SentimentAnalysis) (2.1.1)\n",
      "Requirement already satisfied: colorama in c:\\users\\dnedi\\pycharmprojects\\sentimentanalysisofyoutubereviews\\venv\\lib\\site-packages (from click->nltk->SentimentAnalysis) (0.4.6)\n",
      "Requirement already satisfied: pytube in c:\\users\\dnedi\\pycharmprojects\\sentimentanalysisofyoutubereviews\\venv\\lib\\site-packages (12.1.0)\n",
      "Requirement already satisfied: youtube_dl in c:\\users\\dnedi\\pycharmprojects\\sentimentanalysisofyoutubereviews\\venv\\lib\\site-packages (2021.12.17)\n"
     ]
    }
   ],
   "source": [
    "!pip install SpeechRecognition\n",
    "!pip install ffmpeg\n",
    "!pip install spaCy\n",
    "!pip install SentimentAnalysis\n",
    "!pip install pytube\n",
    "!pip install youtube_dl"
   ],
   "metadata": {
    "collapsed": false,
    "pycharm": {
     "name": "#%%\n"
    }
   }
  },
  {
   "cell_type": "markdown",
   "source": [
    "First of, downloading data from youtube for further speech-to-text project. As a sources for ukrainian will be using [Asymetry podcast](https://www.youtube.com/watch?v=wY9rX_jCHCA&ab_channel=%D0%90%D1%81%D0%B8%D0%BC%D0%B5%D1%82%D1%80%D1%96%D1%8F) for english [DataCamp podast](https://www.youtube.com/watch?v=JGv-98I_Mb4&ab_channel=DataCamp)"
   ],
   "metadata": {
    "collapsed": false,
    "pycharm": {
     "name": "#%% md\n"
    }
   }
  },
  {
   "cell_type": "markdown",
   "source": [],
   "metadata": {
    "collapsed": false
   }
  },
  {
   "cell_type": "code",
   "execution_count": 48,
   "outputs": [],
   "source": [
    "url_eng = 'https://youtu.be/JGv-98I_Mb4'\n",
    "url_uk = 'https://youtu.be/wY9rX_jCHCA'\n",
    "url_list = [url_uk,url_eng]\n",
    "\n",
    "destination = './podcasts'\n",
    "\n",
    "import youtube_dl\n",
    "import os\n",
    "import ffmpeg\n",
    "\n",
    "\n",
    "# from __future__ import unicode_literals\n",
    "#\n",
    "#\n",
    "# ydl_opts = {}\n",
    "# with youtube_dl.YoutubeDL(ydl_opts) as ydl:\n",
    "#     ydl.download([url_list[0]])"
   ],
   "metadata": {
    "collapsed": false,
    "pycharm": {
     "name": "#%%\n"
    }
   }
  },
  {
   "cell_type": "code",
   "execution_count": 52,
   "outputs": [
    {
     "name": "stdout",
     "output_type": "stream",
     "text": [
      "[youtube] wY9rX_jCHCA: Downloading webpage\n"
     ]
    },
    {
     "name": "stderr",
     "output_type": "stream",
     "text": [
      "WARNING: Requested formats are incompatible for merge and will be merged into mkv.\n"
     ]
    },
    {
     "name": "stdout",
     "output_type": "stream",
     "text": [
      "[download] Destination: podcasts\\Втрата цноти, правда про геніїв та дітей зірок _ подкаст Асиметрія.f313.webm\n",
      "[download]   0.0% of 2.84GiB at 63.83KiB/s ETA 12:55:54 "
     ]
    },
    {
     "ename": "KeyboardInterrupt",
     "evalue": "",
     "output_type": "error",
     "traceback": [
      "\u001B[1;31m---------------------------------------------------------------------------\u001B[0m",
      "\u001B[1;31mKeyboardInterrupt\u001B[0m                         Traceback (most recent call last)",
      "Cell \u001B[1;32mIn[52], line 13\u001B[0m\n\u001B[0;32m     11\u001B[0m ydl_opts \u001B[38;5;241m=\u001B[39m {\u001B[38;5;124m'\u001B[39m\u001B[38;5;124mouttmpl\u001B[39m\u001B[38;5;124m'\u001B[39m: \u001B[38;5;124mf\u001B[39m\u001B[38;5;124m'\u001B[39m\u001B[38;5;132;01m{\u001B[39;00mdestination\u001B[38;5;132;01m}\u001B[39;00m\u001B[38;5;124m/%(title)s.%(ext)s\u001B[39m\u001B[38;5;124m'\u001B[39m}\n\u001B[0;32m     12\u001B[0m \u001B[38;5;28;01mwith\u001B[39;00m youtube_dl\u001B[38;5;241m.\u001B[39mYoutubeDL(ydl_opts) \u001B[38;5;28;01mas\u001B[39;00m ydl:\n\u001B[1;32m---> 13\u001B[0m      \u001B[43mydl\u001B[49m\u001B[38;5;241;43m.\u001B[39;49m\u001B[43mdownload\u001B[49m\u001B[43m(\u001B[49m\u001B[43murl_list\u001B[49m\u001B[43m)\u001B[49m\n\u001B[0;32m     16\u001B[0m \u001B[38;5;66;03m# [get_audio(url) for url in url_list]\u001B[39;00m\n",
      "File \u001B[1;32m~\\PycharmProjects\\SentimentAnalysisOfYoutubeReviews\\venv\\lib\\site-packages\\youtube_dl\\YoutubeDL.py:2068\u001B[0m, in \u001B[0;36mYoutubeDL.download\u001B[1;34m(self, url_list)\u001B[0m\n\u001B[0;32m   2065\u001B[0m \u001B[38;5;28;01mfor\u001B[39;00m url \u001B[38;5;129;01min\u001B[39;00m url_list:\n\u001B[0;32m   2066\u001B[0m     \u001B[38;5;28;01mtry\u001B[39;00m:\n\u001B[0;32m   2067\u001B[0m         \u001B[38;5;66;03m# It also downloads the videos\u001B[39;00m\n\u001B[1;32m-> 2068\u001B[0m         res \u001B[38;5;241m=\u001B[39m \u001B[38;5;28;43mself\u001B[39;49m\u001B[38;5;241;43m.\u001B[39;49m\u001B[43mextract_info\u001B[49m\u001B[43m(\u001B[49m\n\u001B[0;32m   2069\u001B[0m \u001B[43m            \u001B[49m\u001B[43murl\u001B[49m\u001B[43m,\u001B[49m\u001B[43m \u001B[49m\u001B[43mforce_generic_extractor\u001B[49m\u001B[38;5;241;43m=\u001B[39;49m\u001B[38;5;28;43mself\u001B[39;49m\u001B[38;5;241;43m.\u001B[39;49m\u001B[43mparams\u001B[49m\u001B[38;5;241;43m.\u001B[39;49m\u001B[43mget\u001B[49m\u001B[43m(\u001B[49m\u001B[38;5;124;43m'\u001B[39;49m\u001B[38;5;124;43mforce_generic_extractor\u001B[39;49m\u001B[38;5;124;43m'\u001B[39;49m\u001B[43m,\u001B[49m\u001B[43m \u001B[49m\u001B[38;5;28;43;01mFalse\u001B[39;49;00m\u001B[43m)\u001B[49m\u001B[43m)\u001B[49m\n\u001B[0;32m   2070\u001B[0m     \u001B[38;5;28;01mexcept\u001B[39;00m UnavailableVideoError:\n\u001B[0;32m   2071\u001B[0m         \u001B[38;5;28mself\u001B[39m\u001B[38;5;241m.\u001B[39mreport_error(\u001B[38;5;124m'\u001B[39m\u001B[38;5;124munable to download video\u001B[39m\u001B[38;5;124m'\u001B[39m)\n",
      "File \u001B[1;32m~\\PycharmProjects\\SentimentAnalysisOfYoutubeReviews\\venv\\lib\\site-packages\\youtube_dl\\YoutubeDL.py:808\u001B[0m, in \u001B[0;36mYoutubeDL.extract_info\u001B[1;34m(self, url, download, ie_key, extra_info, process, force_generic_extractor)\u001B[0m\n\u001B[0;32m    804\u001B[0m     \u001B[38;5;28;01mif\u001B[39;00m \u001B[38;5;129;01mnot\u001B[39;00m ie\u001B[38;5;241m.\u001B[39mworking():\n\u001B[0;32m    805\u001B[0m         \u001B[38;5;28mself\u001B[39m\u001B[38;5;241m.\u001B[39mreport_warning(\u001B[38;5;124m'\u001B[39m\u001B[38;5;124mThe program functionality for this site has been marked as broken, \u001B[39m\u001B[38;5;124m'\u001B[39m\n\u001B[0;32m    806\u001B[0m                             \u001B[38;5;124m'\u001B[39m\u001B[38;5;124mand will probably not work.\u001B[39m\u001B[38;5;124m'\u001B[39m)\n\u001B[1;32m--> 808\u001B[0m     \u001B[38;5;28;01mreturn\u001B[39;00m \u001B[38;5;28;43mself\u001B[39;49m\u001B[38;5;241;43m.\u001B[39;49m\u001B[43m__extract_info\u001B[49m\u001B[43m(\u001B[49m\u001B[43murl\u001B[49m\u001B[43m,\u001B[49m\u001B[43m \u001B[49m\u001B[43mie\u001B[49m\u001B[43m,\u001B[49m\u001B[43m \u001B[49m\u001B[43mdownload\u001B[49m\u001B[43m,\u001B[49m\u001B[43m \u001B[49m\u001B[43mextra_info\u001B[49m\u001B[43m,\u001B[49m\u001B[43m \u001B[49m\u001B[43mprocess\u001B[49m\u001B[43m)\u001B[49m\n\u001B[0;32m    809\u001B[0m \u001B[38;5;28;01melse\u001B[39;00m:\n\u001B[0;32m    810\u001B[0m     \u001B[38;5;28mself\u001B[39m\u001B[38;5;241m.\u001B[39mreport_error(\u001B[38;5;124m'\u001B[39m\u001B[38;5;124mno suitable InfoExtractor for URL \u001B[39m\u001B[38;5;132;01m%s\u001B[39;00m\u001B[38;5;124m'\u001B[39m \u001B[38;5;241m%\u001B[39m url)\n",
      "File \u001B[1;32m~\\PycharmProjects\\SentimentAnalysisOfYoutubeReviews\\venv\\lib\\site-packages\\youtube_dl\\YoutubeDL.py:815\u001B[0m, in \u001B[0;36mYoutubeDL.__handle_extraction_exceptions.<locals>.wrapper\u001B[1;34m(self, *args, **kwargs)\u001B[0m\n\u001B[0;32m    813\u001B[0m \u001B[38;5;28;01mdef\u001B[39;00m \u001B[38;5;21mwrapper\u001B[39m(\u001B[38;5;28mself\u001B[39m, \u001B[38;5;241m*\u001B[39margs, \u001B[38;5;241m*\u001B[39m\u001B[38;5;241m*\u001B[39mkwargs):\n\u001B[0;32m    814\u001B[0m     \u001B[38;5;28;01mtry\u001B[39;00m:\n\u001B[1;32m--> 815\u001B[0m         \u001B[38;5;28;01mreturn\u001B[39;00m func(\u001B[38;5;28mself\u001B[39m, \u001B[38;5;241m*\u001B[39margs, \u001B[38;5;241m*\u001B[39m\u001B[38;5;241m*\u001B[39mkwargs)\n\u001B[0;32m    816\u001B[0m     \u001B[38;5;28;01mexcept\u001B[39;00m GeoRestrictedError \u001B[38;5;28;01mas\u001B[39;00m e:\n\u001B[0;32m    817\u001B[0m         msg \u001B[38;5;241m=\u001B[39m e\u001B[38;5;241m.\u001B[39mmsg\n",
      "File \u001B[1;32m~\\PycharmProjects\\SentimentAnalysisOfYoutubeReviews\\venv\\lib\\site-packages\\youtube_dl\\YoutubeDL.py:847\u001B[0m, in \u001B[0;36mYoutubeDL.__extract_info\u001B[1;34m(self, url, ie, download, extra_info, process)\u001B[0m\n\u001B[0;32m    845\u001B[0m \u001B[38;5;28mself\u001B[39m\u001B[38;5;241m.\u001B[39madd_default_extra_info(ie_result, ie, url)\n\u001B[0;32m    846\u001B[0m \u001B[38;5;28;01mif\u001B[39;00m process:\n\u001B[1;32m--> 847\u001B[0m     \u001B[38;5;28;01mreturn\u001B[39;00m \u001B[38;5;28;43mself\u001B[39;49m\u001B[38;5;241;43m.\u001B[39;49m\u001B[43mprocess_ie_result\u001B[49m\u001B[43m(\u001B[49m\u001B[43mie_result\u001B[49m\u001B[43m,\u001B[49m\u001B[43m \u001B[49m\u001B[43mdownload\u001B[49m\u001B[43m,\u001B[49m\u001B[43m \u001B[49m\u001B[43mextra_info\u001B[49m\u001B[43m)\u001B[49m\n\u001B[0;32m    848\u001B[0m \u001B[38;5;28;01melse\u001B[39;00m:\n\u001B[0;32m    849\u001B[0m     \u001B[38;5;28;01mreturn\u001B[39;00m ie_result\n",
      "File \u001B[1;32m~\\PycharmProjects\\SentimentAnalysisOfYoutubeReviews\\venv\\lib\\site-packages\\youtube_dl\\YoutubeDL.py:881\u001B[0m, in \u001B[0;36mYoutubeDL.process_ie_result\u001B[1;34m(self, ie_result, download, extra_info)\u001B[0m\n\u001B[0;32m    879\u001B[0m \u001B[38;5;28;01mif\u001B[39;00m result_type \u001B[38;5;241m==\u001B[39m \u001B[38;5;124m'\u001B[39m\u001B[38;5;124mvideo\u001B[39m\u001B[38;5;124m'\u001B[39m:\n\u001B[0;32m    880\u001B[0m     \u001B[38;5;28mself\u001B[39m\u001B[38;5;241m.\u001B[39madd_extra_info(ie_result, extra_info)\n\u001B[1;32m--> 881\u001B[0m     \u001B[38;5;28;01mreturn\u001B[39;00m \u001B[38;5;28;43mself\u001B[39;49m\u001B[38;5;241;43m.\u001B[39;49m\u001B[43mprocess_video_result\u001B[49m\u001B[43m(\u001B[49m\u001B[43mie_result\u001B[49m\u001B[43m,\u001B[49m\u001B[43m \u001B[49m\u001B[43mdownload\u001B[49m\u001B[38;5;241;43m=\u001B[39;49m\u001B[43mdownload\u001B[49m\u001B[43m)\u001B[49m\n\u001B[0;32m    882\u001B[0m \u001B[38;5;28;01melif\u001B[39;00m result_type \u001B[38;5;241m==\u001B[39m \u001B[38;5;124m'\u001B[39m\u001B[38;5;124murl\u001B[39m\u001B[38;5;124m'\u001B[39m:\n\u001B[0;32m    883\u001B[0m     \u001B[38;5;66;03m# We have to add extra_info to the results because it may be\u001B[39;00m\n\u001B[0;32m    884\u001B[0m     \u001B[38;5;66;03m# contained in a playlist\u001B[39;00m\n\u001B[0;32m    885\u001B[0m     \u001B[38;5;28;01mreturn\u001B[39;00m \u001B[38;5;28mself\u001B[39m\u001B[38;5;241m.\u001B[39mextract_info(ie_result[\u001B[38;5;124m'\u001B[39m\u001B[38;5;124murl\u001B[39m\u001B[38;5;124m'\u001B[39m],\n\u001B[0;32m    886\u001B[0m                              download,\n\u001B[0;32m    887\u001B[0m                              ie_key\u001B[38;5;241m=\u001B[39mie_result\u001B[38;5;241m.\u001B[39mget(\u001B[38;5;124m'\u001B[39m\u001B[38;5;124mie_key\u001B[39m\u001B[38;5;124m'\u001B[39m),\n\u001B[0;32m    888\u001B[0m                              extra_info\u001B[38;5;241m=\u001B[39mextra_info)\n",
      "File \u001B[1;32m~\\PycharmProjects\\SentimentAnalysisOfYoutubeReviews\\venv\\lib\\site-packages\\youtube_dl\\YoutubeDL.py:1692\u001B[0m, in \u001B[0;36mYoutubeDL.process_video_result\u001B[1;34m(self, info_dict, download)\u001B[0m\n\u001B[0;32m   1690\u001B[0m         new_info \u001B[38;5;241m=\u001B[39m \u001B[38;5;28mdict\u001B[39m(info_dict)\n\u001B[0;32m   1691\u001B[0m         new_info\u001B[38;5;241m.\u001B[39mupdate(\u001B[38;5;28mformat\u001B[39m)\n\u001B[1;32m-> 1692\u001B[0m         \u001B[38;5;28;43mself\u001B[39;49m\u001B[38;5;241;43m.\u001B[39;49m\u001B[43mprocess_info\u001B[49m\u001B[43m(\u001B[49m\u001B[43mnew_info\u001B[49m\u001B[43m)\u001B[49m\n\u001B[0;32m   1693\u001B[0m \u001B[38;5;66;03m# We update the info dict with the best quality format (backwards compatibility)\u001B[39;00m\n\u001B[0;32m   1694\u001B[0m info_dict\u001B[38;5;241m.\u001B[39mupdate(formats_to_download[\u001B[38;5;241m-\u001B[39m\u001B[38;5;241m1\u001B[39m])\n",
      "File \u001B[1;32m~\\PycharmProjects\\SentimentAnalysisOfYoutubeReviews\\venv\\lib\\site-packages\\youtube_dl\\YoutubeDL.py:1970\u001B[0m, in \u001B[0;36mYoutubeDL.process_info\u001B[1;34m(self, info_dict)\u001B[0m\n\u001B[0;32m   1968\u001B[0m         \u001B[38;5;28;01mreturn\u001B[39;00m\n\u001B[0;32m   1969\u001B[0m     downloaded\u001B[38;5;241m.\u001B[39mappend(fname)\n\u001B[1;32m-> 1970\u001B[0m     partial_success \u001B[38;5;241m=\u001B[39m \u001B[43mdl\u001B[49m\u001B[43m(\u001B[49m\u001B[43mfname\u001B[49m\u001B[43m,\u001B[49m\u001B[43m \u001B[49m\u001B[43mnew_info\u001B[49m\u001B[43m)\u001B[49m\n\u001B[0;32m   1971\u001B[0m     success \u001B[38;5;241m=\u001B[39m success \u001B[38;5;129;01mand\u001B[39;00m partial_success\n\u001B[0;32m   1972\u001B[0m info_dict[\u001B[38;5;124m'\u001B[39m\u001B[38;5;124m__postprocessors\u001B[39m\u001B[38;5;124m'\u001B[39m] \u001B[38;5;241m=\u001B[39m postprocessors\n",
      "File \u001B[1;32m~\\PycharmProjects\\SentimentAnalysisOfYoutubeReviews\\venv\\lib\\site-packages\\youtube_dl\\YoutubeDL.py:1915\u001B[0m, in \u001B[0;36mYoutubeDL.process_info.<locals>.dl\u001B[1;34m(name, info)\u001B[0m\n\u001B[0;32m   1913\u001B[0m \u001B[38;5;28;01mif\u001B[39;00m \u001B[38;5;28mself\u001B[39m\u001B[38;5;241m.\u001B[39mparams\u001B[38;5;241m.\u001B[39mget(\u001B[38;5;124m'\u001B[39m\u001B[38;5;124mverbose\u001B[39m\u001B[38;5;124m'\u001B[39m):\n\u001B[0;32m   1914\u001B[0m     \u001B[38;5;28mself\u001B[39m\u001B[38;5;241m.\u001B[39mto_screen(\u001B[38;5;124m'\u001B[39m\u001B[38;5;124m[debug] Invoking downloader on \u001B[39m\u001B[38;5;132;01m%r\u001B[39;00m\u001B[38;5;124m'\u001B[39m \u001B[38;5;241m%\u001B[39m info\u001B[38;5;241m.\u001B[39mget(\u001B[38;5;124m'\u001B[39m\u001B[38;5;124murl\u001B[39m\u001B[38;5;124m'\u001B[39m))\n\u001B[1;32m-> 1915\u001B[0m \u001B[38;5;28;01mreturn\u001B[39;00m \u001B[43mfd\u001B[49m\u001B[38;5;241;43m.\u001B[39;49m\u001B[43mdownload\u001B[49m\u001B[43m(\u001B[49m\u001B[43mname\u001B[49m\u001B[43m,\u001B[49m\u001B[43m \u001B[49m\u001B[43minfo\u001B[49m\u001B[43m)\u001B[49m\n",
      "File \u001B[1;32m~\\PycharmProjects\\SentimentAnalysisOfYoutubeReviews\\venv\\lib\\site-packages\\youtube_dl\\downloader\\common.py:366\u001B[0m, in \u001B[0;36mFileDownloader.download\u001B[1;34m(self, filename, info_dict)\u001B[0m\n\u001B[0;32m    360\u001B[0m     \u001B[38;5;28mself\u001B[39m\u001B[38;5;241m.\u001B[39mto_screen(\n\u001B[0;32m    361\u001B[0m         \u001B[38;5;124m'\u001B[39m\u001B[38;5;124m[download] Sleeping \u001B[39m\u001B[38;5;132;01m%s\u001B[39;00m\u001B[38;5;124m seconds...\u001B[39m\u001B[38;5;124m'\u001B[39m \u001B[38;5;241m%\u001B[39m (\n\u001B[0;32m    362\u001B[0m             \u001B[38;5;28mint\u001B[39m(sleep_interval) \u001B[38;5;28;01mif\u001B[39;00m sleep_interval\u001B[38;5;241m.\u001B[39mis_integer()\n\u001B[0;32m    363\u001B[0m             \u001B[38;5;28;01melse\u001B[39;00m \u001B[38;5;124m'\u001B[39m\u001B[38;5;132;01m%.2f\u001B[39;00m\u001B[38;5;124m'\u001B[39m \u001B[38;5;241m%\u001B[39m sleep_interval))\n\u001B[0;32m    364\u001B[0m     time\u001B[38;5;241m.\u001B[39msleep(sleep_interval)\n\u001B[1;32m--> 366\u001B[0m \u001B[38;5;28;01mreturn\u001B[39;00m \u001B[38;5;28;43mself\u001B[39;49m\u001B[38;5;241;43m.\u001B[39;49m\u001B[43mreal_download\u001B[49m\u001B[43m(\u001B[49m\u001B[43mfilename\u001B[49m\u001B[43m,\u001B[49m\u001B[43m \u001B[49m\u001B[43minfo_dict\u001B[49m\u001B[43m)\u001B[49m\n",
      "File \u001B[1;32m~\\PycharmProjects\\SentimentAnalysisOfYoutubeReviews\\venv\\lib\\site-packages\\youtube_dl\\downloader\\http.py:352\u001B[0m, in \u001B[0;36mHttpFD.real_download\u001B[1;34m(self, filename, info_dict)\u001B[0m\n\u001B[0;32m    350\u001B[0m \u001B[38;5;28;01mtry\u001B[39;00m:\n\u001B[0;32m    351\u001B[0m     establish_connection()\n\u001B[1;32m--> 352\u001B[0m     \u001B[38;5;28;01mreturn\u001B[39;00m \u001B[43mdownload\u001B[49m\u001B[43m(\u001B[49m\u001B[43m)\u001B[49m\n\u001B[0;32m    353\u001B[0m \u001B[38;5;28;01mexcept\u001B[39;00m RetryDownload \u001B[38;5;28;01mas\u001B[39;00m e:\n\u001B[0;32m    354\u001B[0m     count \u001B[38;5;241m+\u001B[39m\u001B[38;5;241m=\u001B[39m \u001B[38;5;241m1\u001B[39m\n",
      "File \u001B[1;32m~\\PycharmProjects\\SentimentAnalysisOfYoutubeReviews\\venv\\lib\\site-packages\\youtube_dl\\downloader\\http.py:238\u001B[0m, in \u001B[0;36mHttpFD.real_download.<locals>.download\u001B[1;34m()\u001B[0m\n\u001B[0;32m    235\u001B[0m \u001B[38;5;28;01mwhile\u001B[39;00m \u001B[38;5;28;01mTrue\u001B[39;00m:\n\u001B[0;32m    236\u001B[0m     \u001B[38;5;28;01mtry\u001B[39;00m:\n\u001B[0;32m    237\u001B[0m         \u001B[38;5;66;03m# Download and write\u001B[39;00m\n\u001B[1;32m--> 238\u001B[0m         data_block \u001B[38;5;241m=\u001B[39m \u001B[43mctx\u001B[49m\u001B[38;5;241;43m.\u001B[39;49m\u001B[43mdata\u001B[49m\u001B[38;5;241;43m.\u001B[39;49m\u001B[43mread\u001B[49m\u001B[43m(\u001B[49m\u001B[43mblock_size\u001B[49m\u001B[43m \u001B[49m\u001B[38;5;28;43;01mif\u001B[39;49;00m\u001B[43m \u001B[49m\u001B[43mdata_len\u001B[49m\u001B[43m \u001B[49m\u001B[38;5;129;43;01mis\u001B[39;49;00m\u001B[43m \u001B[49m\u001B[38;5;28;43;01mNone\u001B[39;49;00m\u001B[43m \u001B[49m\u001B[38;5;28;43;01melse\u001B[39;49;00m\u001B[43m \u001B[49m\u001B[38;5;28;43mmin\u001B[39;49m\u001B[43m(\u001B[49m\u001B[43mblock_size\u001B[49m\u001B[43m,\u001B[49m\u001B[43m \u001B[49m\u001B[43mdata_len\u001B[49m\u001B[43m \u001B[49m\u001B[38;5;241;43m-\u001B[39;49m\u001B[43m \u001B[49m\u001B[43mbyte_counter\u001B[49m\u001B[43m)\u001B[49m\u001B[43m)\u001B[49m\n\u001B[0;32m    239\u001B[0m     \u001B[38;5;66;03m# socket.timeout is a subclass of socket.error but may not have\u001B[39;00m\n\u001B[0;32m    240\u001B[0m     \u001B[38;5;66;03m# errno set\u001B[39;00m\n\u001B[0;32m    241\u001B[0m     \u001B[38;5;28;01mexcept\u001B[39;00m socket\u001B[38;5;241m.\u001B[39mtimeout \u001B[38;5;28;01mas\u001B[39;00m e:\n",
      "File \u001B[1;32m~\\AppData\\Local\\Programs\\Python\\Python310\\lib\\http\\client.py:465\u001B[0m, in \u001B[0;36mHTTPResponse.read\u001B[1;34m(self, amt)\u001B[0m\n\u001B[0;32m    462\u001B[0m \u001B[38;5;28;01mif\u001B[39;00m \u001B[38;5;28mself\u001B[39m\u001B[38;5;241m.\u001B[39mlength \u001B[38;5;129;01mis\u001B[39;00m \u001B[38;5;129;01mnot\u001B[39;00m \u001B[38;5;28;01mNone\u001B[39;00m \u001B[38;5;129;01mand\u001B[39;00m amt \u001B[38;5;241m>\u001B[39m \u001B[38;5;28mself\u001B[39m\u001B[38;5;241m.\u001B[39mlength:\n\u001B[0;32m    463\u001B[0m     \u001B[38;5;66;03m# clip the read to the \"end of response\"\u001B[39;00m\n\u001B[0;32m    464\u001B[0m     amt \u001B[38;5;241m=\u001B[39m \u001B[38;5;28mself\u001B[39m\u001B[38;5;241m.\u001B[39mlength\n\u001B[1;32m--> 465\u001B[0m s \u001B[38;5;241m=\u001B[39m \u001B[38;5;28;43mself\u001B[39;49m\u001B[38;5;241;43m.\u001B[39;49m\u001B[43mfp\u001B[49m\u001B[38;5;241;43m.\u001B[39;49m\u001B[43mread\u001B[49m\u001B[43m(\u001B[49m\u001B[43mamt\u001B[49m\u001B[43m)\u001B[49m\n\u001B[0;32m    466\u001B[0m \u001B[38;5;28;01mif\u001B[39;00m \u001B[38;5;129;01mnot\u001B[39;00m s \u001B[38;5;129;01mand\u001B[39;00m amt:\n\u001B[0;32m    467\u001B[0m     \u001B[38;5;66;03m# Ideally, we would raise IncompleteRead if the content-length\u001B[39;00m\n\u001B[0;32m    468\u001B[0m     \u001B[38;5;66;03m# wasn't satisfied, but it might break compatibility.\u001B[39;00m\n\u001B[0;32m    469\u001B[0m     \u001B[38;5;28mself\u001B[39m\u001B[38;5;241m.\u001B[39m_close_conn()\n",
      "File \u001B[1;32m~\\AppData\\Local\\Programs\\Python\\Python310\\lib\\socket.py:705\u001B[0m, in \u001B[0;36mSocketIO.readinto\u001B[1;34m(self, b)\u001B[0m\n\u001B[0;32m    703\u001B[0m \u001B[38;5;28;01mwhile\u001B[39;00m \u001B[38;5;28;01mTrue\u001B[39;00m:\n\u001B[0;32m    704\u001B[0m     \u001B[38;5;28;01mtry\u001B[39;00m:\n\u001B[1;32m--> 705\u001B[0m         \u001B[38;5;28;01mreturn\u001B[39;00m \u001B[38;5;28;43mself\u001B[39;49m\u001B[38;5;241;43m.\u001B[39;49m\u001B[43m_sock\u001B[49m\u001B[38;5;241;43m.\u001B[39;49m\u001B[43mrecv_into\u001B[49m\u001B[43m(\u001B[49m\u001B[43mb\u001B[49m\u001B[43m)\u001B[49m\n\u001B[0;32m    706\u001B[0m     \u001B[38;5;28;01mexcept\u001B[39;00m timeout:\n\u001B[0;32m    707\u001B[0m         \u001B[38;5;28mself\u001B[39m\u001B[38;5;241m.\u001B[39m_timeout_occurred \u001B[38;5;241m=\u001B[39m \u001B[38;5;28;01mTrue\u001B[39;00m\n",
      "File \u001B[1;32m~\\AppData\\Local\\Programs\\Python\\Python310\\lib\\ssl.py:1273\u001B[0m, in \u001B[0;36mSSLSocket.recv_into\u001B[1;34m(self, buffer, nbytes, flags)\u001B[0m\n\u001B[0;32m   1269\u001B[0m     \u001B[38;5;28;01mif\u001B[39;00m flags \u001B[38;5;241m!=\u001B[39m \u001B[38;5;241m0\u001B[39m:\n\u001B[0;32m   1270\u001B[0m         \u001B[38;5;28;01mraise\u001B[39;00m \u001B[38;5;167;01mValueError\u001B[39;00m(\n\u001B[0;32m   1271\u001B[0m           \u001B[38;5;124m\"\u001B[39m\u001B[38;5;124mnon-zero flags not allowed in calls to recv_into() on \u001B[39m\u001B[38;5;132;01m%s\u001B[39;00m\u001B[38;5;124m\"\u001B[39m \u001B[38;5;241m%\u001B[39m\n\u001B[0;32m   1272\u001B[0m           \u001B[38;5;28mself\u001B[39m\u001B[38;5;241m.\u001B[39m\u001B[38;5;18m__class__\u001B[39m)\n\u001B[1;32m-> 1273\u001B[0m     \u001B[38;5;28;01mreturn\u001B[39;00m \u001B[38;5;28;43mself\u001B[39;49m\u001B[38;5;241;43m.\u001B[39;49m\u001B[43mread\u001B[49m\u001B[43m(\u001B[49m\u001B[43mnbytes\u001B[49m\u001B[43m,\u001B[49m\u001B[43m \u001B[49m\u001B[43mbuffer\u001B[49m\u001B[43m)\u001B[49m\n\u001B[0;32m   1274\u001B[0m \u001B[38;5;28;01melse\u001B[39;00m:\n\u001B[0;32m   1275\u001B[0m     \u001B[38;5;28;01mreturn\u001B[39;00m \u001B[38;5;28msuper\u001B[39m()\u001B[38;5;241m.\u001B[39mrecv_into(buffer, nbytes, flags)\n",
      "File \u001B[1;32m~\\AppData\\Local\\Programs\\Python\\Python310\\lib\\ssl.py:1129\u001B[0m, in \u001B[0;36mSSLSocket.read\u001B[1;34m(self, len, buffer)\u001B[0m\n\u001B[0;32m   1127\u001B[0m \u001B[38;5;28;01mtry\u001B[39;00m:\n\u001B[0;32m   1128\u001B[0m     \u001B[38;5;28;01mif\u001B[39;00m buffer \u001B[38;5;129;01mis\u001B[39;00m \u001B[38;5;129;01mnot\u001B[39;00m \u001B[38;5;28;01mNone\u001B[39;00m:\n\u001B[1;32m-> 1129\u001B[0m         \u001B[38;5;28;01mreturn\u001B[39;00m \u001B[38;5;28;43mself\u001B[39;49m\u001B[38;5;241;43m.\u001B[39;49m\u001B[43m_sslobj\u001B[49m\u001B[38;5;241;43m.\u001B[39;49m\u001B[43mread\u001B[49m\u001B[43m(\u001B[49m\u001B[38;5;28;43mlen\u001B[39;49m\u001B[43m,\u001B[49m\u001B[43m \u001B[49m\u001B[43mbuffer\u001B[49m\u001B[43m)\u001B[49m\n\u001B[0;32m   1130\u001B[0m     \u001B[38;5;28;01melse\u001B[39;00m:\n\u001B[0;32m   1131\u001B[0m         \u001B[38;5;28;01mreturn\u001B[39;00m \u001B[38;5;28mself\u001B[39m\u001B[38;5;241m.\u001B[39m_sslobj\u001B[38;5;241m.\u001B[39mread(\u001B[38;5;28mlen\u001B[39m)\n",
      "\u001B[1;31mKeyboardInterrupt\u001B[0m: "
     ]
    }
   ],
   "source": [
    "# def get_audio(url):\n",
    "#     try:\n",
    "#         video = YouTube(url)\n",
    "#\n",
    "#         audio = video.streams.filter(only_audio=True, file_extension='mp4').first()\n",
    "#         audio.download(destination)\n",
    "#         print(\"Video Downloaded\")\n",
    "#     except:\n",
    "#         print(\"Error\")\n",
    "\n",
    "ydl_opts = {'outtmpl': f'{destination}/%(title)s.%(ext)s'}\n",
    "with youtube_dl.YoutubeDL(ydl_opts) as ydl:\n",
    "     ydl.download(url_list)\n",
    "\n",
    "\n",
    "# [get_audio(url) for url in url_list]"
   ],
   "metadata": {
    "collapsed": false,
    "pycharm": {
     "name": "#%%\n"
    }
   }
  },
  {
   "cell_type": "markdown",
   "source": [],
   "metadata": {
    "collapsed": false
   }
  },
  {
   "cell_type": "code",
   "execution_count": 32,
   "outputs": [],
   "source": [
    "# Renaming files for conviniance\n",
    "\n",
    "\n",
    "filenames = next(os.walk(destination), (None, None, []))[2]\n",
    "for num, name in enumerate(filenames):\n",
    "    os.rename(destination+\"/\" +name,destination+\"/\"+str(num+1) + \".mp4\")\n"
   ],
   "metadata": {
    "collapsed": false,
    "pycharm": {
     "name": "#%%\n"
    }
   }
  },
  {
   "cell_type": "code",
   "execution_count": 34,
   "outputs": [
    {
     "name": "stdout",
     "output_type": "stream",
     "text": [
      "['1.mp4', '2.mp4']\n"
     ]
    }
   ],
   "source": [
    "new_filenames = next(os.walk(destination), (None, None, []))[2]\n",
    "print(new_filenames)\n",
    "apcol = 'C:/Users/dnedi/PycharmProjects/SentimentAnalysisOfYoutubeReviews/pre studing/podcasts/1.mp4'\n",
    "for name in range(len(new_filenames)):\n",
    "    command_mp4_3 = f'ffmpeg -i 1.mp4 1.mp3'\n",
    "    command_mp3_wav = f'ffmpeg -i 1.mp3 1.wav'\n",
    "    os.system(command_mp4_3)\n",
    "    os.system(command_mp3_wav)\n"
   ],
   "metadata": {
    "collapsed": false,
    "pycharm": {
     "name": "#%%\n"
    }
   }
  },
  {
   "cell_type": "code",
   "execution_count": 35,
   "outputs": [
    {
     "data": {
      "text/plain": "['1.mp4', 'SpeechRecognition check.ipynb']"
     },
     "execution_count": 35,
     "metadata": {},
     "output_type": "execute_result"
    }
   ],
   "source": [
    "wav_filenames_ = next(os.walk(\".\"), (None, None, []))[2]\n",
    "wav_filenames = next(os.walk(destination), (None, None, []))[2]\n",
    "wav_filenames_"
   ],
   "metadata": {
    "collapsed": false,
    "pycharm": {
     "name": "#%%\n"
    }
   }
  },
  {
   "cell_type": "code",
   "source": [
    "# import SR library\n",
    "import speech_recognition as sr\n",
    "# crate an instance of recogniser\n",
    "recognizer = sr.Recognizer()\n",
    "# energy threshold - vals below are sounds, above - speech\n",
    "recognizer.energy_threshold=300\n",
    "# spaCy for extracting named entities and fillers also can be used for breaking on sentences\n"
   ],
   "metadata": {
    "collapsed": false,
    "pycharm": {
     "name": "#%%\n"
    }
   },
   "execution_count": null,
   "outputs": []
  },
  {
   "cell_type": "code",
   "execution_count": null,
   "outputs": [],
   "source": [],
   "metadata": {
    "collapsed": false,
    "pycharm": {
     "name": "#%%\n"
    }
   }
  }
 ],
 "metadata": {
  "kernelspec": {
   "display_name": "Python 3",
   "language": "python",
   "name": "python3"
  },
  "language_info": {
   "codemirror_mode": {
    "name": "ipython",
    "version": 2
   },
   "file_extension": ".py",
   "mimetype": "text/x-python",
   "name": "python",
   "nbconvert_exporter": "python",
   "pygments_lexer": "ipython2",
   "version": "2.7.6"
  }
 },
 "nbformat": 4,
 "nbformat_minor": 0
}